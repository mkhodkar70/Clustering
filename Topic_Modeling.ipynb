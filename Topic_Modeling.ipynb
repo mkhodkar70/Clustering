{
 "cells": [
  {
   "cell_type": "markdown",
   "metadata": {
    "collapsed": true,
    "id": "4bFrxU3ZXAJX"
   },
   "source": [
    "# Topic Modeling -- Text Segmentation Using Unsupervised Learning\n",
    "\n",
    "In this project, ~ 12,000 articles of NPR have been clustered into several groups, using the two common text segmentation techniques: Latent Dirichlet Allocation and Non-Negative Magtrix Factorization."
   ]
  },
  {
   "cell_type": "markdown",
   "metadata": {
    "id": "CLoG_0rVXAJY"
   },
   "source": [
    "## Import Required Packages"
   ]
  },
  {
   "cell_type": "code",
   "execution_count": 1,
   "metadata": {
    "colab": {
     "base_uri": "https://localhost:8080/"
    },
    "collapsed": true,
    "executionInfo": {
     "elapsed": 186519,
     "status": "ok",
     "timestamp": 1686342917937,
     "user": {
      "displayName": "Amin Khodkar",
      "userId": "09708206172731177785"
     },
     "user_tz": 300
    },
    "id": "7z0IJiPSXAJZ",
    "outputId": "368990f3-69a7-4faa-a872-90e6884cf315"
   },
   "outputs": [
    {
     "name": "stdout",
     "output_type": "stream",
     "text": [
      "Mounted at /content/drive/\n"
     ]
    }
   ],
   "source": [
    "# Data manipulation libraries\n",
    "import pandas as pd\n",
    "import numpy as np\n",
    "# to restrict the float value to 2 decimal places\n",
    "pd.set_option('display.float_format', lambda x: '%.3f' % x)\n",
    "\n",
    "# Data visualization libraries\n",
    "from IPython.display import display, Markdown\n",
    "\n",
    "# NLP libraries\n",
    "import spacy\n",
    "nlp = spacy.load('en_core_web_sm')\n",
    "\n",
    "# Modeling libraries\n",
    "from sklearn.feature_extraction.text import CountVectorizer, TfidfVectorizer\n",
    "from sklearn.decomposition import NMF, LatentDirichletAllocation\n",
    "\n",
    "# Mounting the drive\n",
    "from google.colab import drive\n",
    "drive.mount('/content/drive/')"
   ]
  },
  {
   "cell_type": "markdown",
   "metadata": {
    "id": "io3vcKhafhNo"
   },
   "source": [
    "## Loading Data"
   ]
  },
  {
   "cell_type": "code",
   "execution_count": 2,
   "metadata": {
    "collapsed": true,
    "executionInfo": {
     "elapsed": 3060,
     "status": "ok",
     "timestamp": 1686342920983,
     "user": {
      "displayName": "Amin Khodkar",
      "userId": "09708206172731177785"
     },
     "user_tz": 300
    },
    "id": "XGxVSIQ2XAJa"
   },
   "outputs": [],
   "source": [
    "# Importing the text data\n",
    "data_orig = pd.read_csv('/content/drive/MyDrive/Python_files/npr.csv')\n",
    "# Ensuring the original data remains unchanged\n",
    "df = data_orig.copy()"
   ]
  },
  {
   "cell_type": "markdown",
   "metadata": {
    "id": "MsQHq7D2gGx4"
   },
   "source": [
    "## Data Overview"
   ]
  },
  {
   "cell_type": "code",
   "execution_count": 3,
   "metadata": {
    "colab": {
     "base_uri": "https://localhost:8080/",
     "height": 363
    },
    "executionInfo": {
     "elapsed": 29,
     "status": "ok",
     "timestamp": 1686342920983,
     "user": {
      "displayName": "Amin Khodkar",
      "userId": "09708206172731177785"
     },
     "user_tz": 300
    },
    "id": "U8egovNCXAJa",
    "outputId": "d77bedbc-8f87-48a9-f666-462d228bbd52"
   },
   "outputs": [
    {
     "data": {
      "text/html": [
       "\n",
       "  <div id=\"df-09fa2fc4-a0ce-4c4c-90c9-23ba8f38732a\">\n",
       "    <div class=\"colab-df-container\">\n",
       "      <div>\n",
       "<style scoped>\n",
       "    .dataframe tbody tr th:only-of-type {\n",
       "        vertical-align: middle;\n",
       "    }\n",
       "\n",
       "    .dataframe tbody tr th {\n",
       "        vertical-align: top;\n",
       "    }\n",
       "\n",
       "    .dataframe thead th {\n",
       "        text-align: right;\n",
       "    }\n",
       "</style>\n",
       "<table border=\"1\" class=\"dataframe\">\n",
       "  <thead>\n",
       "    <tr style=\"text-align: right;\">\n",
       "      <th></th>\n",
       "      <th>Article</th>\n",
       "    </tr>\n",
       "  </thead>\n",
       "  <tbody>\n",
       "    <tr>\n",
       "      <th>4552</th>\n",
       "      <td>Want to launder $20 million in illicit drug mo...</td>\n",
       "    </tr>\n",
       "    <tr>\n",
       "      <th>7818</th>\n",
       "      <td>The U. S. spends a lot of money on preschool  ...</td>\n",
       "    </tr>\n",
       "    <tr>\n",
       "      <th>11493</th>\n",
       "      <td>The holiday competition to warm the cold cockl...</td>\n",
       "    </tr>\n",
       "    <tr>\n",
       "      <th>688</th>\n",
       "      <td>Biologist Shaun Clements stands in the winter ...</td>\n",
       "    </tr>\n",
       "    <tr>\n",
       "      <th>9070</th>\n",
       "      <td>One of the most surprising stories of the Olym...</td>\n",
       "    </tr>\n",
       "    <tr>\n",
       "      <th>6486</th>\n",
       "      <td>Imagine this. You’re a    student in a remote ...</td>\n",
       "    </tr>\n",
       "    <tr>\n",
       "      <th>10296</th>\n",
       "      <td>Scientists are one step closer to understandin...</td>\n",
       "    </tr>\n",
       "    <tr>\n",
       "      <th>8710</th>\n",
       "      <td>There is an old stereotype about women in poli...</td>\n",
       "    </tr>\n",
       "    <tr>\n",
       "      <th>489</th>\n",
       "      <td>Gene Demby of NPR’s Code Switch team is in our...</td>\n",
       "    </tr>\n",
       "    <tr>\n",
       "      <th>8072</th>\n",
       "      <td>The Afghan army commander said the treacherous...</td>\n",
       "    </tr>\n",
       "  </tbody>\n",
       "</table>\n",
       "</div>\n",
       "      <button class=\"colab-df-convert\" onclick=\"convertToInteractive('df-09fa2fc4-a0ce-4c4c-90c9-23ba8f38732a')\"\n",
       "              title=\"Convert this dataframe to an interactive table.\"\n",
       "              style=\"display:none;\">\n",
       "        \n",
       "  <svg xmlns=\"http://www.w3.org/2000/svg\" height=\"24px\"viewBox=\"0 0 24 24\"\n",
       "       width=\"24px\">\n",
       "    <path d=\"M0 0h24v24H0V0z\" fill=\"none\"/>\n",
       "    <path d=\"M18.56 5.44l.94 2.06.94-2.06 2.06-.94-2.06-.94-.94-2.06-.94 2.06-2.06.94zm-11 1L8.5 8.5l.94-2.06 2.06-.94-2.06-.94L8.5 2.5l-.94 2.06-2.06.94zm10 10l.94 2.06.94-2.06 2.06-.94-2.06-.94-.94-2.06-.94 2.06-2.06.94z\"/><path d=\"M17.41 7.96l-1.37-1.37c-.4-.4-.92-.59-1.43-.59-.52 0-1.04.2-1.43.59L10.3 9.45l-7.72 7.72c-.78.78-.78 2.05 0 2.83L4 21.41c.39.39.9.59 1.41.59.51 0 1.02-.2 1.41-.59l7.78-7.78 2.81-2.81c.8-.78.8-2.07 0-2.86zM5.41 20L4 18.59l7.72-7.72 1.47 1.35L5.41 20z\"/>\n",
       "  </svg>\n",
       "      </button>\n",
       "      \n",
       "  <style>\n",
       "    .colab-df-container {\n",
       "      display:flex;\n",
       "      flex-wrap:wrap;\n",
       "      gap: 12px;\n",
       "    }\n",
       "\n",
       "    .colab-df-convert {\n",
       "      background-color: #E8F0FE;\n",
       "      border: none;\n",
       "      border-radius: 50%;\n",
       "      cursor: pointer;\n",
       "      display: none;\n",
       "      fill: #1967D2;\n",
       "      height: 32px;\n",
       "      padding: 0 0 0 0;\n",
       "      width: 32px;\n",
       "    }\n",
       "\n",
       "    .colab-df-convert:hover {\n",
       "      background-color: #E2EBFA;\n",
       "      box-shadow: 0px 1px 2px rgba(60, 64, 67, 0.3), 0px 1px 3px 1px rgba(60, 64, 67, 0.15);\n",
       "      fill: #174EA6;\n",
       "    }\n",
       "\n",
       "    [theme=dark] .colab-df-convert {\n",
       "      background-color: #3B4455;\n",
       "      fill: #D2E3FC;\n",
       "    }\n",
       "\n",
       "    [theme=dark] .colab-df-convert:hover {\n",
       "      background-color: #434B5C;\n",
       "      box-shadow: 0px 1px 3px 1px rgba(0, 0, 0, 0.15);\n",
       "      filter: drop-shadow(0px 1px 2px rgba(0, 0, 0, 0.3));\n",
       "      fill: #FFFFFF;\n",
       "    }\n",
       "  </style>\n",
       "\n",
       "      <script>\n",
       "        const buttonEl =\n",
       "          document.querySelector('#df-09fa2fc4-a0ce-4c4c-90c9-23ba8f38732a button.colab-df-convert');\n",
       "        buttonEl.style.display =\n",
       "          google.colab.kernel.accessAllowed ? 'block' : 'none';\n",
       "\n",
       "        async function convertToInteractive(key) {\n",
       "          const element = document.querySelector('#df-09fa2fc4-a0ce-4c4c-90c9-23ba8f38732a');\n",
       "          const dataTable =\n",
       "            await google.colab.kernel.invokeFunction('convertToInteractive',\n",
       "                                                     [key], {});\n",
       "          if (!dataTable) return;\n",
       "\n",
       "          const docLinkHtml = 'Like what you see? Visit the ' +\n",
       "            '<a target=\"_blank\" href=https://colab.research.google.com/notebooks/data_table.ipynb>data table notebook</a>'\n",
       "            + ' to learn more about interactive tables.';\n",
       "          element.innerHTML = '';\n",
       "          dataTable['output_type'] = 'display_data';\n",
       "          await google.colab.output.renderOutput(dataTable, element);\n",
       "          const docLink = document.createElement('div');\n",
       "          docLink.innerHTML = docLinkHtml;\n",
       "          element.appendChild(docLink);\n",
       "        }\n",
       "      </script>\n",
       "    </div>\n",
       "  </div>\n",
       "  "
      ],
      "text/plain": [
       "                                                 Article\n",
       "4552   Want to launder $20 million in illicit drug mo...\n",
       "7818   The U. S. spends a lot of money on preschool  ...\n",
       "11493  The holiday competition to warm the cold cockl...\n",
       "688    Biologist Shaun Clements stands in the winter ...\n",
       "9070   One of the most surprising stories of the Olym...\n",
       "6486   Imagine this. You’re a    student in a remote ...\n",
       "10296  Scientists are one step closer to understandin...\n",
       "8710   There is an old stereotype about women in poli...\n",
       "489    Gene Demby of NPR’s Code Switch team is in our...\n",
       "8072   The Afghan army commander said the treacherous..."
      ]
     },
     "execution_count": 3,
     "metadata": {},
     "output_type": "execute_result"
    }
   ],
   "source": [
    "# Viewing a sample of data\n",
    "df.sample(10)"
   ]
  },
  {
   "cell_type": "code",
   "execution_count": 4,
   "metadata": {
    "colab": {
     "base_uri": "https://localhost:8080/"
    },
    "executionInfo": {
     "elapsed": 20,
     "status": "ok",
     "timestamp": 1686342920985,
     "user": {
      "displayName": "Amin Khodkar",
      "userId": "09708206172731177785"
     },
     "user_tz": 300
    },
    "id": "vMHEdZ4zgO4i",
    "outputId": "2d5b9449-05b6-4393-9fb3-6ebe41e596db"
   },
   "outputs": [
    {
     "name": "stdout",
     "output_type": "stream",
     "text": [
      "The data contains 11992 articles.\n"
     ]
    }
   ],
   "source": [
    "# Shape of data\n",
    "print(f'The data contains {df.shape[0]} articles.')"
   ]
  },
  {
   "cell_type": "code",
   "execution_count": 5,
   "metadata": {
    "colab": {
     "base_uri": "https://localhost:8080/",
     "height": 841
    },
    "executionInfo": {
     "elapsed": 424,
     "status": "ok",
     "timestamp": 1686342921394,
     "user": {
      "displayName": "Amin Khodkar",
      "userId": "09708206172731177785"
     },
     "user_tz": 300
    },
    "id": "jMzH94RIgnJP",
    "outputId": "37b09e2f-c357-4d58-b759-aa67a6796e00"
   },
   "outputs": [
    {
     "name": "stdout",
     "output_type": "stream",
     "text": [
      "Random Article 1:\n"
     ]
    },
    {
     "data": {
      "text/markdown": [
       "I first met Tess Johnston in the late 1990s in a yellow, stucco apartment building where she lived in Shanghai’s former French Concession. As was her habit, she dropped the key from her   window and I let myself in. Her drafty apartment was crammed with books and street maps. Over tea, Johnston, then in her late 60s, regaled me with her latest adventures, rushing through the city’s back alleys to photograph old   villas before they succumbed to sledge hammers. ”There are heartbreaking times when we..."
      ],
      "text/plain": [
       "<IPython.core.display.Markdown object>"
      ]
     },
     "metadata": {},
     "output_type": "display_data"
    },
    {
     "name": "stdout",
     "output_type": "stream",
     "text": [
      "\n",
      "****************************************************************************************************\n",
      "****************************************************************************************************\n",
      "\n",
      "Random Article 2:\n"
     ]
    },
    {
     "data": {
      "text/markdown": [
       "The anonymous source behind the Panama Papers document dump has offered to help law enforcement officials pursue wrongdoers, in exchange for immunity from prosecution. ”Legitimate   who expose unquestionable wrongdoing, whether insiders or outsiders, deserve immunity from government retribution,” the source said, in a statement released late Thursday. It was verified by Süddeutsche Zeitung, the German newspaper that helped bring the documents to worldwide attention. In early April, media organizations around the world reported that millions of documents were hacked from Mossack Fonseca, a Panama law firm..."
      ],
      "text/plain": [
       "<IPython.core.display.Markdown object>"
      ]
     },
     "metadata": {},
     "output_type": "display_data"
    },
    {
     "name": "stdout",
     "output_type": "stream",
     "text": [
      "\n",
      "****************************************************************************************************\n",
      "****************************************************************************************************\n",
      "\n",
      "Random Article 3:\n"
     ]
    },
    {
     "data": {
      "text/markdown": [
       "Even as President Trump takes steps to restrict visitors from some   countries, he and his family continue to do business in some of the others. Ethics experts question whether that might indicate conflicts between Trump’s business interests and his role as U. S. president. The executive action, ”Protecting The Nation From Foreign Terrorist Entry Into The United States,” targets seven nations: Iran, Iraq, Libya, Somalia, Sudan, Syria and Yemen. Trump has no business interests in those countries. One other thing they have in..."
      ],
      "text/plain": [
       "<IPython.core.display.Markdown object>"
      ]
     },
     "metadata": {},
     "output_type": "display_data"
    },
    {
     "name": "stdout",
     "output_type": "stream",
     "text": [
      "\n",
      "****************************************************************************************************\n",
      "****************************************************************************************************\n",
      "\n",
      "Random Article 4:\n"
     ]
    },
    {
     "data": {
      "text/markdown": [
       "Last week, the New York Times published an   titled ”In Defense of Cultural Appropriation” in which writer Kenan Malik attempted to extol the virtues of artistic appropriation and chastise those who would stand in the way of necessary ”cultural engagement.” (No link, because you have Google and I’d rather not give that piece more traffic than it deserves.) What would have happened, he argues, had Elvis Presley not been able to swipe the sounds of black musicians? Malik is not the first person to defend..."
      ],
      "text/plain": [
       "<IPython.core.display.Markdown object>"
      ]
     },
     "metadata": {},
     "output_type": "display_data"
    },
    {
     "name": "stdout",
     "output_type": "stream",
     "text": [
      "\n",
      "****************************************************************************************************\n",
      "****************************************************************************************************\n",
      "\n",
      "Random Article 5:\n"
     ]
    },
    {
     "data": {
      "text/markdown": [
       "Each month, NPR Music asks disc jockeys and music experts from public radio stations across the country to share one song they can’t get enough of. In July’s edition, you’ll hear new music by Queens rocksteady band The Frightnrs, RB producer and singer Blood Orange, Irish   James Vincent McMorrow and more  —   an eclectic mix that’s just right for summer...."
      ],
      "text/plain": [
       "<IPython.core.display.Markdown object>"
      ]
     },
     "metadata": {},
     "output_type": "display_data"
    },
    {
     "name": "stdout",
     "output_type": "stream",
     "text": [
      "\n",
      "****************************************************************************************************\n",
      "****************************************************************************************************\n",
      "\n"
     ]
    }
   ],
   "source": [
    "# Randomly viewing a few questions\n",
    "from random import randint, seed\n",
    "seed(0)\n",
    "for i in range(5):\n",
    "    print(f'Random Article {i+1}:')\n",
    "    article = nlp(df.Article[randint(0, df.shape[0])])\n",
    "    display(Markdown(str(article[:100]) + '...'))\n",
    "    print('\\n'+ ('*'*100 + '\\n')*2)"
   ]
  },
  {
   "cell_type": "code",
   "execution_count": null,
   "metadata": {
    "id": "vcn7Kknp6TJR"
   },
   "outputs": [],
   "source": []
  },
  {
   "cell_type": "markdown",
   "metadata": {
    "id": "REfAgVpSgeab"
   },
   "source": [
    "## Sanity Checks on Data\n",
    "\n",
    "Here, we ensure there is no NAN or blank questions in the data."
   ]
  },
  {
   "cell_type": "code",
   "execution_count": 6,
   "metadata": {
    "colab": {
     "base_uri": "https://localhost:8080/"
    },
    "executionInfo": {
     "elapsed": 9,
     "status": "ok",
     "timestamp": 1686342921395,
     "user": {
      "displayName": "Amin Khodkar",
      "userId": "09708206172731177785"
     },
     "user_tz": 300
    },
    "id": "ncNsTOdviEBU",
    "outputId": "bfc812a8-4680-4584-c551-8581d58f135b"
   },
   "outputs": [
    {
     "name": "stdout",
     "output_type": "stream",
     "text": [
      "No. of NAN questions: 0\n"
     ]
    }
   ],
   "source": [
    "print('No. of NAN questions:', df['Article'].isnull().sum())"
   ]
  },
  {
   "cell_type": "code",
   "execution_count": 7,
   "metadata": {
    "colab": {
     "base_uri": "https://localhost:8080/"
    },
    "executionInfo": {
     "elapsed": 166,
     "status": "ok",
     "timestamp": 1686342921555,
     "user": {
      "displayName": "Amin Khodkar",
      "userId": "09708206172731177785"
     },
     "user_tz": 300
    },
    "id": "buJubYwriWSC",
    "outputId": "92b75312-a03a-43e1-b3df-375fef4bd028"
   },
   "outputs": [
    {
     "name": "stdout",
     "output_type": "stream",
     "text": [
      "No. of blank questions: 0\n"
     ]
    }
   ],
   "source": [
    "no_blanks = 0\n",
    "for i in range(df.shape[0]):\n",
    "    Q = df['Article']\n",
    "    if type(Q) == str:\n",
    "      if Q.isspace():\n",
    "        no_blanks += 1\n",
    "print('No. of blank questions:', no_blanks)        "
   ]
  },
  {
   "cell_type": "markdown",
   "metadata": {
    "id": "MDeXqCebi2DA"
   },
   "source": [
    "#### Observations:\n",
    "\n",
    "As can be seen, there is no missing value or blank article in the data."
   ]
  },
  {
   "cell_type": "markdown",
   "metadata": {
    "id": "yKwIcY6PXAJb"
   },
   "source": [
    "## Model Building\n",
    "\n",
    "Here, we first leverage the Non-Negative Matrix Factorization technique to cluster our text data, and then compare its results to those of the Latent Dirichlet Allocation algorithm. Note that the hyperparameters of the models, especially the no. of clusters, were found iteratively, and are set at their optimal values, to render the most insightful results."
   ]
  },
  {
   "cell_type": "markdown",
   "metadata": {
    "id": "TITMyM4nj0Eu"
   },
   "source": [
    "### Non-Negative Matrix Factorization"
   ]
  },
  {
   "cell_type": "code",
   "execution_count": 8,
   "metadata": {
    "colab": {
     "base_uri": "https://localhost:8080/"
    },
    "collapsed": true,
    "executionInfo": {
     "elapsed": 4778,
     "status": "ok",
     "timestamp": 1686342926330,
     "user": {
      "displayName": "Amin Khodkar",
      "userId": "09708206172731177785"
     },
     "user_tz": 300
    },
    "id": "NHUnYuQGXAJb",
    "outputId": "e853113b-0478-4deb-b53e-5c282bed4e2c"
   },
   "outputs": [
    {
     "data": {
      "text/plain": [
       "(11992, 33085)"
      ]
     },
     "execution_count": 8,
     "metadata": {},
     "output_type": "execute_result"
    }
   ],
   "source": [
    "# Instantiating the TF_IDF vectorizer required for NMF\n",
    "tiv = TfidfVectorizer(min_df = 5, max_df = 0.9, stop_words = 'english')\n",
    "\n",
    "# Creating the the TF-IDF frequency matrix of the data\n",
    "tim = tiv.fit_transform(df['Article'])\n",
    "tim.shape"
   ]
  },
  {
   "cell_type": "markdown",
   "metadata": {
    "id": "Ab9ZJNlPmip5"
   },
   "source": [
    "#### Notes:\n",
    "\n",
    "Here, words appearing in more than 90% of the documents have been assumed too common, and those appearing in less than 5 documents have been deemed too specific. This has resulted in a dictionary of 33,085 words across all 11,992 articles."
   ]
  },
  {
   "cell_type": "code",
   "execution_count": 9,
   "metadata": {
    "executionInfo": {
     "elapsed": 7531,
     "status": "ok",
     "timestamp": 1686342933855,
     "user": {
      "displayName": "Amin Khodkar",
      "userId": "09708206172731177785"
     },
     "user_tz": 300
    },
    "id": "qN6dDX5MnCSj"
   },
   "outputs": [],
   "source": [
    "# Applying NMF to the sparse word frequency matrix\n",
    "nmf_model = NMF(n_components = 7, max_iter = 1000, random_state = 1)\n",
    "nmf_results = nmf_model.fit_transform(tim)"
   ]
  },
  {
   "cell_type": "code",
   "execution_count": 10,
   "metadata": {
    "colab": {
     "base_uri": "https://localhost:8080/"
    },
    "executionInfo": {
     "elapsed": 174,
     "status": "ok",
     "timestamp": 1686342934016,
     "user": {
      "displayName": "Amin Khodkar",
      "userId": "09708206172731177785"
     },
     "user_tz": 300
    },
    "id": "IJCCWJJyos5L",
    "outputId": "0574c78a-5e67-4d4b-8029-aebb7e4ffccf"
   },
   "outputs": [
    {
     "name": "stdout",
     "output_type": "stream",
     "text": [
      "Top 20 repeating words for Topic 0:\n",
      "\n",
      " ['says' 'people' 'zika' 'food' 'water' 'study' 'women' 'virus' 'disease'\n",
      " 'percent' 'like' 'health' 'patients' 'new' 'research' 'scientists'\n",
      " 'years' 'university' 'brain' 'researchers']\n",
      "\n",
      "****************************************************************************************************\n",
      "****************************************************************************************************\n",
      "\n",
      "Top 20 repeating words for Topic 1:\n",
      "\n",
      " ['trump' 'president' 'said' 'campaign' 'donald' 'house' 'white' 'obama'\n",
      " 'republican' 'election' 'administration' 'russia' 'presidential' 'comey'\n",
      " 'pence' 'gop' 'republicans' 'office' 'nominee' 'intelligence']\n",
      "\n",
      "****************************************************************************************************\n",
      "****************************************************************************************************\n",
      "\n",
      "Top 20 repeating words for Topic 2:\n",
      "\n",
      " ['health' 'care' 'insurance' 'medicaid' 'coverage' 'obamacare'\n",
      " 'affordable' 'republicans' 'plan' 'tax' 'law' 'people' 'act' 'house'\n",
      " 'senate' 'repeal' 'said' 'aca' 'federal' 'patients']\n",
      "\n",
      "****************************************************************************************************\n",
      "****************************************************************************************************\n",
      "\n",
      "Top 20 repeating words for Topic 3:\n",
      "\n",
      " ['police' 'said' 'court' 'reports' 'attack' 'state' 'president'\n",
      " 'government' 'law' 'isis' 'russia' 'department' 'officers' 'security'\n",
      " 'syria' 'city' 'justice' 'reported' 'killed' 'military']\n",
      "\n",
      "****************************************************************************************************\n",
      "****************************************************************************************************\n",
      "\n",
      "Top 20 repeating words for Topic 4:\n",
      "\n",
      " ['clinton' 'sanders' 'voters' 'campaign' 'hillary' 'democratic' 'state'\n",
      " 'vote' 'party' 'delegates' 'percent' 'democrats' 'election' 'republican'\n",
      " 'cruz' 'primary' 'candidates' 'win' 'said' 'candidate']\n",
      "\n",
      "****************************************************************************************************\n",
      "****************************************************************************************************\n",
      "\n",
      "Top 20 repeating words for Topic 5:\n",
      "\n",
      " ['like' 'music' 'just' 'think' 'people' 'know' 'really' 'song' 'life'\n",
      " 'album' 'time' 'way' 'love' 'book' 'don' 've' 'black' 'things' 'kind'\n",
      " 'new']\n",
      "\n",
      "****************************************************************************************************\n",
      "****************************************************************************************************\n",
      "\n",
      "Top 20 repeating words for Topic 6:\n",
      "\n",
      " ['students' 'school' 'schools' 'education' 'student' 'teachers' 'kids'\n",
      " 'college' 'children' 'parents' 'devos' 'says' 'high' 'teacher' 'state'\n",
      " 'child' 'program' 'learning' 'public' 'university']\n",
      "\n",
      "****************************************************************************************************\n",
      "****************************************************************************************************\n",
      "\n"
     ]
    }
   ],
   "source": [
    "# Finding the top 20 words for each topic\n",
    "for topic_index in range(nmf_model.components_.shape[0]):\n",
    "    freq_words_index = nmf_model.components_[topic_index, :].argsort()[-20:]\n",
    "    freq_words = tiv.get_feature_names_out()[freq_words_index[::-1]]\n",
    "    print(f'Top 20 repeating words for Topic {topic_index}:\\n\\n {np.array(freq_words)}')\n",
    "    print('\\n'+ ('*'*100 + '\\n')*2)"
   ]
  },
  {
   "cell_type": "code",
   "execution_count": 11,
   "metadata": {
    "colab": {
     "base_uri": "https://localhost:8080/",
     "height": 206
    },
    "executionInfo": {
     "elapsed": 16,
     "status": "ok",
     "timestamp": 1686342934017,
     "user": {
      "displayName": "Amin Khodkar",
      "userId": "09708206172731177785"
     },
     "user_tz": 300
    },
    "id": "5me2K-z1ozpV",
    "outputId": "51c4067c-a0b1-4250-b9fd-e0c550d2a7e2"
   },
   "outputs": [
    {
     "data": {
      "text/html": [
       "\n",
       "  <div id=\"df-75b2587f-ce30-4cd7-bc7c-092da7f8c1c6\">\n",
       "    <div class=\"colab-df-container\">\n",
       "      <div>\n",
       "<style scoped>\n",
       "    .dataframe tbody tr th:only-of-type {\n",
       "        vertical-align: middle;\n",
       "    }\n",
       "\n",
       "    .dataframe tbody tr th {\n",
       "        vertical-align: top;\n",
       "    }\n",
       "\n",
       "    .dataframe thead th {\n",
       "        text-align: right;\n",
       "    }\n",
       "</style>\n",
       "<table border=\"1\" class=\"dataframe\">\n",
       "  <thead>\n",
       "    <tr style=\"text-align: right;\">\n",
       "      <th></th>\n",
       "      <th>Article</th>\n",
       "      <th>NMF_Label</th>\n",
       "    </tr>\n",
       "  </thead>\n",
       "  <tbody>\n",
       "    <tr>\n",
       "      <th>0</th>\n",
       "      <td>In the Washington of 2016, even when the polic...</td>\n",
       "      <td>Trump/White House</td>\n",
       "    </tr>\n",
       "    <tr>\n",
       "      <th>1</th>\n",
       "      <td>Donald Trump has used Twitter  —   his prefe...</td>\n",
       "      <td>Trump/White House</td>\n",
       "    </tr>\n",
       "    <tr>\n",
       "      <th>2</th>\n",
       "      <td>Donald Trump is unabashedly praising Russian...</td>\n",
       "      <td>Trump/White House</td>\n",
       "    </tr>\n",
       "    <tr>\n",
       "      <th>3</th>\n",
       "      <td>Updated at 2:50 p. m. ET, Russian President Vl...</td>\n",
       "      <td>International/Immigration</td>\n",
       "    </tr>\n",
       "    <tr>\n",
       "      <th>4</th>\n",
       "      <td>From photography, illustration and video, to d...</td>\n",
       "      <td>Education/Activism</td>\n",
       "    </tr>\n",
       "  </tbody>\n",
       "</table>\n",
       "</div>\n",
       "      <button class=\"colab-df-convert\" onclick=\"convertToInteractive('df-75b2587f-ce30-4cd7-bc7c-092da7f8c1c6')\"\n",
       "              title=\"Convert this dataframe to an interactive table.\"\n",
       "              style=\"display:none;\">\n",
       "        \n",
       "  <svg xmlns=\"http://www.w3.org/2000/svg\" height=\"24px\"viewBox=\"0 0 24 24\"\n",
       "       width=\"24px\">\n",
       "    <path d=\"M0 0h24v24H0V0z\" fill=\"none\"/>\n",
       "    <path d=\"M18.56 5.44l.94 2.06.94-2.06 2.06-.94-2.06-.94-.94-2.06-.94 2.06-2.06.94zm-11 1L8.5 8.5l.94-2.06 2.06-.94-2.06-.94L8.5 2.5l-.94 2.06-2.06.94zm10 10l.94 2.06.94-2.06 2.06-.94-2.06-.94-.94-2.06-.94 2.06-2.06.94z\"/><path d=\"M17.41 7.96l-1.37-1.37c-.4-.4-.92-.59-1.43-.59-.52 0-1.04.2-1.43.59L10.3 9.45l-7.72 7.72c-.78.78-.78 2.05 0 2.83L4 21.41c.39.39.9.59 1.41.59.51 0 1.02-.2 1.41-.59l7.78-7.78 2.81-2.81c.8-.78.8-2.07 0-2.86zM5.41 20L4 18.59l7.72-7.72 1.47 1.35L5.41 20z\"/>\n",
       "  </svg>\n",
       "      </button>\n",
       "      \n",
       "  <style>\n",
       "    .colab-df-container {\n",
       "      display:flex;\n",
       "      flex-wrap:wrap;\n",
       "      gap: 12px;\n",
       "    }\n",
       "\n",
       "    .colab-df-convert {\n",
       "      background-color: #E8F0FE;\n",
       "      border: none;\n",
       "      border-radius: 50%;\n",
       "      cursor: pointer;\n",
       "      display: none;\n",
       "      fill: #1967D2;\n",
       "      height: 32px;\n",
       "      padding: 0 0 0 0;\n",
       "      width: 32px;\n",
       "    }\n",
       "\n",
       "    .colab-df-convert:hover {\n",
       "      background-color: #E2EBFA;\n",
       "      box-shadow: 0px 1px 2px rgba(60, 64, 67, 0.3), 0px 1px 3px 1px rgba(60, 64, 67, 0.15);\n",
       "      fill: #174EA6;\n",
       "    }\n",
       "\n",
       "    [theme=dark] .colab-df-convert {\n",
       "      background-color: #3B4455;\n",
       "      fill: #D2E3FC;\n",
       "    }\n",
       "\n",
       "    [theme=dark] .colab-df-convert:hover {\n",
       "      background-color: #434B5C;\n",
       "      box-shadow: 0px 1px 3px 1px rgba(0, 0, 0, 0.15);\n",
       "      filter: drop-shadow(0px 1px 2px rgba(0, 0, 0, 0.3));\n",
       "      fill: #FFFFFF;\n",
       "    }\n",
       "  </style>\n",
       "\n",
       "      <script>\n",
       "        const buttonEl =\n",
       "          document.querySelector('#df-75b2587f-ce30-4cd7-bc7c-092da7f8c1c6 button.colab-df-convert');\n",
       "        buttonEl.style.display =\n",
       "          google.colab.kernel.accessAllowed ? 'block' : 'none';\n",
       "\n",
       "        async function convertToInteractive(key) {\n",
       "          const element = document.querySelector('#df-75b2587f-ce30-4cd7-bc7c-092da7f8c1c6');\n",
       "          const dataTable =\n",
       "            await google.colab.kernel.invokeFunction('convertToInteractive',\n",
       "                                                     [key], {});\n",
       "          if (!dataTable) return;\n",
       "\n",
       "          const docLinkHtml = 'Like what you see? Visit the ' +\n",
       "            '<a target=\"_blank\" href=https://colab.research.google.com/notebooks/data_table.ipynb>data table notebook</a>'\n",
       "            + ' to learn more about interactive tables.';\n",
       "          element.innerHTML = '';\n",
       "          dataTable['output_type'] = 'display_data';\n",
       "          await google.colab.output.renderOutput(dataTable, element);\n",
       "          const docLink = document.createElement('div');\n",
       "          docLink.innerHTML = docLinkHtml;\n",
       "          element.appendChild(docLink);\n",
       "        }\n",
       "      </script>\n",
       "    </div>\n",
       "  </div>\n",
       "  "
      ],
      "text/plain": [
       "                                             Article  \\\n",
       "0  In the Washington of 2016, even when the polic...   \n",
       "1    Donald Trump has used Twitter  —   his prefe...   \n",
       "2    Donald Trump is unabashedly praising Russian...   \n",
       "3  Updated at 2:50 p. m. ET, Russian President Vl...   \n",
       "4  From photography, illustration and video, to d...   \n",
       "\n",
       "                   NMF_Label  \n",
       "0          Trump/White House  \n",
       "1          Trump/White House  \n",
       "2          Trump/White House  \n",
       "3  International/Immigration  \n",
       "4         Education/Activism  "
      ]
     },
     "execution_count": 11,
     "metadata": {},
     "output_type": "execute_result"
    }
   ],
   "source": [
    "# Assigning topics to the dataframe of the questions\n",
    "nmf_label_dicts = {0: 'Health/Science', 1: 'Trump/White House', \n",
    "                   2: 'Domestic/Legislative', 3: 'International/Immigration',\n",
    "                   4: 'Election', 5: 'Art/Culture', 6: 'Education/Activism'}\n",
    "df['NMF_Label'] = nmf_results.argmax(axis = 1) \n",
    "df['NMF_Label'] = df['NMF_Label'].map(nmf_label_dicts)\n",
    "df.head()"
   ]
  },
  {
   "cell_type": "markdown",
   "metadata": {
    "id": "wjLfXdvSEHcj"
   },
   "source": [
    "#### Notes:\n",
    "\n",
    "The title of each topic (cluster) has been chosen based on the dominant words in the cluster. "
   ]
  },
  {
   "cell_type": "code",
   "execution_count": 12,
   "metadata": {
    "colab": {
     "base_uri": "https://localhost:8080/",
     "height": 1000
    },
    "executionInfo": {
     "elapsed": 1404,
     "status": "ok",
     "timestamp": 1686342935409,
     "user": {
      "displayName": "Amin Khodkar",
      "userId": "09708206172731177785"
     },
     "user_tz": 300
    },
    "id": "aHkKJtKwDdgs",
    "outputId": "d7712b4d-d682-428a-cd92-f802a2e00f2f"
   },
   "outputs": [
    {
     "name": "stdout",
     "output_type": "stream",
     "text": [
      "Label: International/Immigration\n"
     ]
    },
    {
     "data": {
      "text/markdown": [
       "The U. S. State Department issued its annual Trafficking in Persons report on Thursday, and the big news is the status of Thailand. Thailand is now on the ”Tier 2 Watch List” for countries that do not meet the minimum U. S. standards for the elimination of trafficking, but are making significant efforts to do so. Last year it was on the ”Tier 3” list of the worst human trafficking offenders  —   countries making no significant effort to meet minimum U. S. standards. That list includes Burma, Haiti..."
      ],
      "text/plain": [
       "<IPython.core.display.Markdown object>"
      ]
     },
     "metadata": {},
     "output_type": "display_data"
    },
    {
     "name": "stdout",
     "output_type": "stream",
     "text": [
      "\n",
      "****************************************************************************************************\n",
      "****************************************************************************************************\n",
      "\n",
      "Label: Health/Science\n"
     ]
    },
    {
     "data": {
      "text/markdown": [
       "Over the past decade, states have passed laws intended to help women understand the results of their breast cancer screening mammograms if they have dense breasts. But those notifications can be downright confusing and may, in fact, cause more misunderstanding than understanding. A study published Tuesday in JAMA, the journal of the American Medical Association, finds the wording of some notifications so complex that only a Ph. D. could understand them. This lack of simple, direct information could lead to greater health disparities in diagnosis and treatment of breast cancer..."
      ],
      "text/plain": [
       "<IPython.core.display.Markdown object>"
      ]
     },
     "metadata": {},
     "output_type": "display_data"
    },
    {
     "name": "stdout",
     "output_type": "stream",
     "text": [
      "\n",
      "****************************************************************************************************\n",
      "****************************************************************************************************\n",
      "\n",
      "Label: Election\n"
     ]
    },
    {
     "data": {
      "text/markdown": [
       "Stephanie Hundley is an enthusiastic Bernie Sanders supporter. The    from Waterloo is also enthusiastic about the fact that she’s not going to vote for Hillary Clinton just because she’s a woman. ”I don’t think she’s the woman to be representative of women,” Hundley said. She ticked off a list of Clinton criticisms: the ”damn emails,” the ”” her vote to go to war in Iraq. Citing Sanders’ record of supporting women’s rights, Hundley said his overall views embody hers more..."
      ],
      "text/plain": [
       "<IPython.core.display.Markdown object>"
      ]
     },
     "metadata": {},
     "output_type": "display_data"
    },
    {
     "name": "stdout",
     "output_type": "stream",
     "text": [
      "\n",
      "****************************************************************************************************\n",
      "****************************************************************************************************\n",
      "\n",
      "Label: Health/Science\n"
     ]
    },
    {
     "data": {
      "text/markdown": [
       "The American Kennel Club says it is officially granting full status to the pumi, a herding breed originally from Hungary. It’s the 190th breed recognized by the AKC, the ”largest purebred dog registry in the world,” which oversees some 22, 000 events annually. This opens the door for the energetic canine known for its ”whimsical expression” to compete in the Westminster Kennel Club Dog Show for the first time. To learn more about the lengthy process of obtaining full recognition from the AKC, The   spoke with..."
      ],
      "text/plain": [
       "<IPython.core.display.Markdown object>"
      ]
     },
     "metadata": {},
     "output_type": "display_data"
    },
    {
     "name": "stdout",
     "output_type": "stream",
     "text": [
      "\n",
      "****************************************************************************************************\n",
      "****************************************************************************************************\n",
      "\n",
      "Label: Health/Science\n"
     ]
    },
    {
     "data": {
      "text/markdown": [
       "Faced with her own forgetfulness, former NPR correspondent and author Barbara Bradley Hagerty tried to do something about it. She’s written about her efforts in her book on midlife, called Life Reimagined. To her surprise, she discovered that an older dog can learn new tricks.  A confession: I loathe standardized tests, and one of the perks of reaching midlife is that I thought I’d never have to take another. But lately I’ve noticed that in my 50s, my memory isn’t the same as it once..."
      ],
      "text/plain": [
       "<IPython.core.display.Markdown object>"
      ]
     },
     "metadata": {},
     "output_type": "display_data"
    },
    {
     "name": "stdout",
     "output_type": "stream",
     "text": [
      "\n",
      "****************************************************************************************************\n",
      "****************************************************************************************************\n",
      "\n",
      "Label: Art/Culture\n"
     ]
    },
    {
     "data": {
      "text/markdown": [
       "Artists make the best cultural critics. They reveal what’s happening around us with whatever level of transparency they see fit, with whatever level of opaqueness they desire to sustain mystery. They’re observers, internally and outwardly, operating in a space that allows us, the voyeur, the listener, to learn. Kim Gordon has been teaching us for over three decades. Now she’s doing it under her own name. The experimental music icon got her start in Sonic Youth 35 years ago, revolutionizing the ’80s New York..."
      ],
      "text/plain": [
       "<IPython.core.display.Markdown object>"
      ]
     },
     "metadata": {},
     "output_type": "display_data"
    },
    {
     "name": "stdout",
     "output_type": "stream",
     "text": [
      "\n",
      "****************************************************************************************************\n",
      "****************************************************************************************************\n",
      "\n",
      "Label: International/Immigration\n"
     ]
    },
    {
     "data": {
      "text/markdown": [
       "Crude oil is now flowing through the Dakota Access Pipeline, despite months of protests against it by Native American tribes and environmental groups. The pipeline spans more than 1, 000 miles from North Dakota to Illinois and cost some $3. 8 billion to construct. It is expected to transport approximately 520, 000 barrels of oil daily. ”Construction on the project was supposed to wrap up late last year,” as Prairie Public Broadcasting’s Amy Sisk reported. ”But protests led to delays in permitting the final stretch of..."
      ],
      "text/plain": [
       "<IPython.core.display.Markdown object>"
      ]
     },
     "metadata": {},
     "output_type": "display_data"
    },
    {
     "name": "stdout",
     "output_type": "stream",
     "text": [
      "\n",
      "****************************************************************************************************\n",
      "****************************************************************************************************\n",
      "\n",
      "Label: Art/Culture\n"
     ]
    },
    {
     "data": {
      "text/markdown": [
       "For much of the   age, and particularly in such   cerebral genres as indie rock, contemporary folk and Americana, artists have been more likely to command critical respect for cultivating their songwriting voices than for interpreting songs from others’ pens. But John Prine, who was once pegged as a new Dylan, seems to be having a fine time toying with that modern musical hierarchy. The profoundly human characters,   wisdom and wry turns of phrase in his songs have earned his spot in the Nashville Songwriters Hall of Fame many..."
      ],
      "text/plain": [
       "<IPython.core.display.Markdown object>"
      ]
     },
     "metadata": {},
     "output_type": "display_data"
    },
    {
     "name": "stdout",
     "output_type": "stream",
     "text": [
      "\n",
      "****************************************************************************************************\n",
      "****************************************************************************************************\n",
      "\n",
      "Label: Health/Science\n"
     ]
    },
    {
     "data": {
      "text/markdown": [
       "In emergencies, administering drugs quickly and easily can be a matter of life and death. This has emergency departments turning to the nose as a delivery route because it’s so accessible and doesn’t require direct contact with a needle. Using the nose as a passage for steroids like Flonase and vaccines like FluMist has been common practice for decades. In recent years, more Americans have also become aware of the emergency drug naloxone, which is used to reverse the effects of an opioid overdose, even when someone has stopped breathing...."
      ],
      "text/plain": [
       "<IPython.core.display.Markdown object>"
      ]
     },
     "metadata": {},
     "output_type": "display_data"
    },
    {
     "name": "stdout",
     "output_type": "stream",
     "text": [
      "\n",
      "****************************************************************************************************\n",
      "****************************************************************************************************\n",
      "\n",
      "Label: Trump/White House\n"
     ]
    },
    {
     "data": {
      "text/markdown": [
       "The sixth Republican debate began harmoniously. Every candidate on stage agreed on one thing: Obama is a terrible president. Then Ted Cruz’s citizenship issue came up and the gloves were off. Cruz was attacked much of the night, but never backed down. After explaining the Constitution to Donald Trump, the former solicitor general said: ”I’m not going to take legal advice from Donald Trump.” Trump doubled down on his   and    policies. And proudly professed: ”I will gladly accept the mantle of anger..."
      ],
      "text/plain": [
       "<IPython.core.display.Markdown object>"
      ]
     },
     "metadata": {},
     "output_type": "display_data"
    },
    {
     "name": "stdout",
     "output_type": "stream",
     "text": [
      "\n",
      "****************************************************************************************************\n",
      "****************************************************************************************************\n",
      "\n"
     ]
    }
   ],
   "source": [
    "# Selecting a few random articles to examine how reasonable the article segmentation looks\n",
    "for i in range(10):\n",
    "    index = randint(0, df.shape[0])\n",
    "    article = nlp(df.loc[index, 'Article'])\n",
    "    print('Label:', df.loc[index, 'NMF_Label'])\n",
    "    display(Markdown(str(article[:100]) + '...'))\n",
    "    print('\\n'+ ('*'*100 + '\\n')*2)"
   ]
  },
  {
   "cell_type": "markdown",
   "metadata": {
    "id": "NwxHOQPqGxMW"
   },
   "source": [
    "#### Observations:\n",
    "\n",
    "As one can notice, the segmentation has been done with a reasonable accuracy."
   ]
  },
  {
   "cell_type": "code",
   "execution_count": 13,
   "metadata": {
    "colab": {
     "base_uri": "https://localhost:8080/"
    },
    "executionInfo": {
     "elapsed": 13,
     "status": "ok",
     "timestamp": 1686342935410,
     "user": {
      "displayName": "Amin Khodkar",
      "userId": "09708206172731177785"
     },
     "user_tz": 300
    },
    "id": "neCJu1TEHdup",
    "outputId": "4d8eb922-3afd-4769-b350-fe791775f44d"
   },
   "outputs": [
    {
     "name": "stdout",
     "output_type": "stream",
     "text": [
      "Share of Each Subject Among All Articles:\n"
     ]
    },
    {
     "data": {
      "text/plain": [
       "Art/Culture                 0.282\n",
       "International/Immigration   0.236\n",
       "Health/Science              0.210\n",
       "Trump/White House           0.109\n",
       "Election                    0.055\n",
       "Education/Activism          0.054\n",
       "Domestic/Legislative        0.053\n",
       "Name: NMF_Label, dtype: float64"
      ]
     },
     "execution_count": 13,
     "metadata": {},
     "output_type": "execute_result"
    }
   ],
   "source": [
    "# Share of each topic in the whole corpus\n",
    "print('Share of Each Subject Among All Articles:')\n",
    "df.NMF_Label.value_counts(1)"
   ]
  },
  {
   "cell_type": "markdown",
   "metadata": {
    "id": "Oz8fjnd6j4b6"
   },
   "source": [
    "### Latent Dirichlet Allocation"
   ]
  },
  {
   "cell_type": "code",
   "execution_count": 14,
   "metadata": {
    "colab": {
     "base_uri": "https://localhost:8080/"
    },
    "collapsed": true,
    "executionInfo": {
     "elapsed": 5176,
     "status": "ok",
     "timestamp": 1686342940578,
     "user": {
      "displayName": "Amin Khodkar",
      "userId": "09708206172731177785"
     },
     "user_tz": 300
    },
    "id": "J8sulpmRXAJb",
    "outputId": "84cc6fa7-125a-4f27-e4e1-386de4eefae4"
   },
   "outputs": [
    {
     "data": {
      "text/plain": [
       "(11992, 33050)"
      ]
     },
     "execution_count": 14,
     "metadata": {},
     "output_type": "execute_result"
    }
   ],
   "source": [
    "# Instantiating the TF_IDF vectorizer required for LDA\n",
    "cv = CountVectorizer(min_df = 5, max_df = 0.3, stop_words = 'english')\n",
    "\n",
    "# Creating the the TF-IDF frequency matrix of the data\n",
    "cm = cv.fit_transform(df['Article'])\n",
    "cm.shape"
   ]
  },
  {
   "cell_type": "markdown",
   "metadata": {
    "id": "HwDBTQH7JgiA"
   },
   "source": [
    "#### Notes:\n",
    "\n",
    "*   Here, words appearing in more than 30% of the documents have been assumed too common, and those appearing in less than 5 documents have been deemed too specific. This has resulted in a dictionary of 33,050 words across all 11,992 articles.\n",
    "\n",
    "*   The reason the max_df hyperparameter, here, has been taken much lower than that of the NMF method is that, otherwise, LDA would've identified many commonplace English words as the frequent key words of the clusters.  "
   ]
  },
  {
   "cell_type": "code",
   "execution_count": 15,
   "metadata": {
    "executionInfo": {
     "elapsed": 83564,
     "status": "ok",
     "timestamp": 1686343024136,
     "user": {
      "displayName": "Amin Khodkar",
      "userId": "09708206172731177785"
     },
     "user_tz": 300
    },
    "id": "JnbQ8mi6JatX"
   },
   "outputs": [],
   "source": [
    "# Applying NMF to the sparse word frequency matrix\n",
    "lda_model = LatentDirichletAllocation(n_components = 6, random_state = 1)\n",
    "lda_results = lda_model.fit_transform(cm)"
   ]
  },
  {
   "cell_type": "code",
   "execution_count": 16,
   "metadata": {
    "colab": {
     "base_uri": "https://localhost:8080/"
    },
    "executionInfo": {
     "elapsed": 15,
     "status": "ok",
     "timestamp": 1686343024137,
     "user": {
      "displayName": "Amin Khodkar",
      "userId": "09708206172731177785"
     },
     "user_tz": 300
    },
    "id": "XJErxvV17EWa",
    "outputId": "e3d29c7a-30fe-442e-e82e-e7a6902253de"
   },
   "outputs": [
    {
     "name": "stdout",
     "output_type": "stream",
     "text": [
      "Top 20 repeating words for Topic 0:\n",
      "\n",
      " ['school' 'students' 'university' 'study' 'science' 'women' 'research'\n",
      " 'children' 'kids' 'schools' 'parents' 'different' 'education' 'human'\n",
      " 'use' 'college' 'team' 'life' 'need' 'brain']\n",
      "\n",
      "****************************************************************************************************\n",
      "****************************************************************************************************\n",
      "\n",
      "Top 20 repeating words for Topic 1:\n",
      "\n",
      " ['police' 'government' 'reports' 'news' 'department' 'reported' 'law'\n",
      " 'security' 'russia' 'case' 'officials' 'statement' 'court' 'attack'\n",
      " 'china' 'public' 'information' 'military' 'investigation' 'federal']\n",
      "\n",
      "****************************************************************************************************\n",
      "****************************************************************************************************\n",
      "\n",
      "Top 20 repeating words for Topic 2:\n",
      "\n",
      " ['trump' 'clinton' 'campaign' 'obama' 'house' 'republican' 'election'\n",
      " 'white' 'party' 'vote' 'political' 'donald' 'voters' 'presidential'\n",
      " 'states' 'democratic' 'republicans' 'senate' 'sanders' 'democrats']\n",
      "\n",
      "****************************************************************************************************\n",
      "****************************************************************************************************\n",
      "\n",
      "Top 20 repeating words for Topic 3:\n",
      "\n",
      " ['life' 'music' 'family' 'black' 'story' 'didn' 'got' 'love' 'man' 'women'\n",
      " 'kind' 'home' 'little' 'book' 'young' 'came' 'city' 'thing' 'film' 'feel']\n",
      "\n",
      "****************************************************************************************************\n",
      "****************************************************************************************************\n",
      "\n",
      "Top 20 repeating words for Topic 4:\n",
      "\n",
      " ['food' 'patients' 'drug' 'disease' 'water' 'treatment' 'medical' 'health'\n",
      " 'use' 'eat' 'drugs' 'used' 'study' 'doctors' 'university' 'cancer'\n",
      " 'blood' 'help' 'hospital' 'medicine']\n",
      "\n",
      "****************************************************************************************************\n",
      "****************************************************************************************************\n",
      "\n",
      "Top 20 repeating words for Topic 5:\n",
      "\n",
      " ['health' 'percent' 'care' '000' 'million' 'federal' 'money' 'states'\n",
      " 'government' 'public' 'insurance' 'law' 'pay' 'tax' 'water' 'program'\n",
      " 'women' 'companies' 'workers' 'plan']\n",
      "\n",
      "****************************************************************************************************\n",
      "****************************************************************************************************\n",
      "\n"
     ]
    }
   ],
   "source": [
    "# Finding the top 20 words for each topic\n",
    "for topic_index in range(lda_model.components_.shape[0]):\n",
    "    freq_words_index = lda_model.components_[topic_index, :].argsort()[-20:]\n",
    "    freq_words = cv.get_feature_names_out()[freq_words_index[::-1]]\n",
    "    print(f'Top 20 repeating words for Topic {topic_index}:\\n\\n {np.array(freq_words)}')\n",
    "    print('\\n'+ ('*'*100 + '\\n')*2)"
   ]
  },
  {
   "cell_type": "code",
   "execution_count": 17,
   "metadata": {
    "colab": {
     "base_uri": "https://localhost:8080/",
     "height": 206
    },
    "executionInfo": {
     "elapsed": 182,
     "status": "ok",
     "timestamp": 1686343024313,
     "user": {
      "displayName": "Amin Khodkar",
      "userId": "09708206172731177785"
     },
     "user_tz": 300
    },
    "id": "dDT5gf1D3ssP",
    "outputId": "89b1e51b-87a3-41ff-f6ec-78c7864f65b5"
   },
   "outputs": [
    {
     "data": {
      "text/html": [
       "\n",
       "  <div id=\"df-317c98b0-1dce-4a6a-8e95-fe64f8c6b9e8\">\n",
       "    <div class=\"colab-df-container\">\n",
       "      <div>\n",
       "<style scoped>\n",
       "    .dataframe tbody tr th:only-of-type {\n",
       "        vertical-align: middle;\n",
       "    }\n",
       "\n",
       "    .dataframe tbody tr th {\n",
       "        vertical-align: top;\n",
       "    }\n",
       "\n",
       "    .dataframe thead th {\n",
       "        text-align: right;\n",
       "    }\n",
       "</style>\n",
       "<table border=\"1\" class=\"dataframe\">\n",
       "  <thead>\n",
       "    <tr style=\"text-align: right;\">\n",
       "      <th></th>\n",
       "      <th>Article</th>\n",
       "      <th>NMF_Label</th>\n",
       "      <th>LDA_Label</th>\n",
       "    </tr>\n",
       "  </thead>\n",
       "  <tbody>\n",
       "    <tr>\n",
       "      <th>0</th>\n",
       "      <td>In the Washington of 2016, even when the polic...</td>\n",
       "      <td>Trump/White House</td>\n",
       "      <td>Election</td>\n",
       "    </tr>\n",
       "    <tr>\n",
       "      <th>1</th>\n",
       "      <td>Donald Trump has used Twitter  —   his prefe...</td>\n",
       "      <td>Trump/White House</td>\n",
       "      <td>Election</td>\n",
       "    </tr>\n",
       "    <tr>\n",
       "      <th>2</th>\n",
       "      <td>Donald Trump is unabashedly praising Russian...</td>\n",
       "      <td>Trump/White House</td>\n",
       "      <td>Election</td>\n",
       "    </tr>\n",
       "    <tr>\n",
       "      <th>3</th>\n",
       "      <td>Updated at 2:50 p. m. ET, Russian President Vl...</td>\n",
       "      <td>International/Immigration</td>\n",
       "      <td>International</td>\n",
       "    </tr>\n",
       "    <tr>\n",
       "      <th>4</th>\n",
       "      <td>From photography, illustration and video, to d...</td>\n",
       "      <td>Education/Activism</td>\n",
       "      <td>Politics/Economics</td>\n",
       "    </tr>\n",
       "  </tbody>\n",
       "</table>\n",
       "</div>\n",
       "      <button class=\"colab-df-convert\" onclick=\"convertToInteractive('df-317c98b0-1dce-4a6a-8e95-fe64f8c6b9e8')\"\n",
       "              title=\"Convert this dataframe to an interactive table.\"\n",
       "              style=\"display:none;\">\n",
       "        \n",
       "  <svg xmlns=\"http://www.w3.org/2000/svg\" height=\"24px\"viewBox=\"0 0 24 24\"\n",
       "       width=\"24px\">\n",
       "    <path d=\"M0 0h24v24H0V0z\" fill=\"none\"/>\n",
       "    <path d=\"M18.56 5.44l.94 2.06.94-2.06 2.06-.94-2.06-.94-.94-2.06-.94 2.06-2.06.94zm-11 1L8.5 8.5l.94-2.06 2.06-.94-2.06-.94L8.5 2.5l-.94 2.06-2.06.94zm10 10l.94 2.06.94-2.06 2.06-.94-2.06-.94-.94-2.06-.94 2.06-2.06.94z\"/><path d=\"M17.41 7.96l-1.37-1.37c-.4-.4-.92-.59-1.43-.59-.52 0-1.04.2-1.43.59L10.3 9.45l-7.72 7.72c-.78.78-.78 2.05 0 2.83L4 21.41c.39.39.9.59 1.41.59.51 0 1.02-.2 1.41-.59l7.78-7.78 2.81-2.81c.8-.78.8-2.07 0-2.86zM5.41 20L4 18.59l7.72-7.72 1.47 1.35L5.41 20z\"/>\n",
       "  </svg>\n",
       "      </button>\n",
       "      \n",
       "  <style>\n",
       "    .colab-df-container {\n",
       "      display:flex;\n",
       "      flex-wrap:wrap;\n",
       "      gap: 12px;\n",
       "    }\n",
       "\n",
       "    .colab-df-convert {\n",
       "      background-color: #E8F0FE;\n",
       "      border: none;\n",
       "      border-radius: 50%;\n",
       "      cursor: pointer;\n",
       "      display: none;\n",
       "      fill: #1967D2;\n",
       "      height: 32px;\n",
       "      padding: 0 0 0 0;\n",
       "      width: 32px;\n",
       "    }\n",
       "\n",
       "    .colab-df-convert:hover {\n",
       "      background-color: #E2EBFA;\n",
       "      box-shadow: 0px 1px 2px rgba(60, 64, 67, 0.3), 0px 1px 3px 1px rgba(60, 64, 67, 0.15);\n",
       "      fill: #174EA6;\n",
       "    }\n",
       "\n",
       "    [theme=dark] .colab-df-convert {\n",
       "      background-color: #3B4455;\n",
       "      fill: #D2E3FC;\n",
       "    }\n",
       "\n",
       "    [theme=dark] .colab-df-convert:hover {\n",
       "      background-color: #434B5C;\n",
       "      box-shadow: 0px 1px 3px 1px rgba(0, 0, 0, 0.15);\n",
       "      filter: drop-shadow(0px 1px 2px rgba(0, 0, 0, 0.3));\n",
       "      fill: #FFFFFF;\n",
       "    }\n",
       "  </style>\n",
       "\n",
       "      <script>\n",
       "        const buttonEl =\n",
       "          document.querySelector('#df-317c98b0-1dce-4a6a-8e95-fe64f8c6b9e8 button.colab-df-convert');\n",
       "        buttonEl.style.display =\n",
       "          google.colab.kernel.accessAllowed ? 'block' : 'none';\n",
       "\n",
       "        async function convertToInteractive(key) {\n",
       "          const element = document.querySelector('#df-317c98b0-1dce-4a6a-8e95-fe64f8c6b9e8');\n",
       "          const dataTable =\n",
       "            await google.colab.kernel.invokeFunction('convertToInteractive',\n",
       "                                                     [key], {});\n",
       "          if (!dataTable) return;\n",
       "\n",
       "          const docLinkHtml = 'Like what you see? Visit the ' +\n",
       "            '<a target=\"_blank\" href=https://colab.research.google.com/notebooks/data_table.ipynb>data table notebook</a>'\n",
       "            + ' to learn more about interactive tables.';\n",
       "          element.innerHTML = '';\n",
       "          dataTable['output_type'] = 'display_data';\n",
       "          await google.colab.output.renderOutput(dataTable, element);\n",
       "          const docLink = document.createElement('div');\n",
       "          docLink.innerHTML = docLinkHtml;\n",
       "          element.appendChild(docLink);\n",
       "        }\n",
       "      </script>\n",
       "    </div>\n",
       "  </div>\n",
       "  "
      ],
      "text/plain": [
       "                                             Article  \\\n",
       "0  In the Washington of 2016, even when the polic...   \n",
       "1    Donald Trump has used Twitter  —   his prefe...   \n",
       "2    Donald Trump is unabashedly praising Russian...   \n",
       "3  Updated at 2:50 p. m. ET, Russian President Vl...   \n",
       "4  From photography, illustration and video, to d...   \n",
       "\n",
       "                   NMF_Label           LDA_Label  \n",
       "0          Trump/White House            Election  \n",
       "1          Trump/White House            Election  \n",
       "2          Trump/White House            Election  \n",
       "3  International/Immigration       International  \n",
       "4         Education/Activism  Politics/Economics  "
      ]
     },
     "execution_count": 17,
     "metadata": {},
     "output_type": "execute_result"
    }
   ],
   "source": [
    "# Assigning topics to the dataframe of the questions\n",
    "lda_label_dicts = {0: 'Education', 1: 'International', 2: 'Election',\n",
    "                   3: 'Life/Art/Culture', 4: 'Health/Science', 5: 'Politics/Economics'}\n",
    "df['LDA_Label'] = lda_results.argmax(axis = 1) \n",
    "df['LDA_Label'] = df['LDA_Label'].map(lda_label_dicts)\n",
    "df.head()"
   ]
  },
  {
   "cell_type": "markdown",
   "metadata": {
    "id": "DIPoGtdl_-N2"
   },
   "source": [
    "#### Notes:\n",
    "\n",
    "The subject of each cluster has been selected based on its most frequent words."
   ]
  },
  {
   "cell_type": "code",
   "execution_count": 18,
   "metadata": {
    "colab": {
     "base_uri": "https://localhost:8080/",
     "height": 1000
    },
    "executionInfo": {
     "elapsed": 889,
     "status": "ok",
     "timestamp": 1686343025188,
     "user": {
      "displayName": "Amin Khodkar",
      "userId": "09708206172731177785"
     },
     "user_tz": 300
    },
    "id": "cKayA2-LAO5a",
    "outputId": "7bc55ab0-cd3d-4bf5-9c71-26e9d1cbe0fb"
   },
   "outputs": [
    {
     "name": "stdout",
     "output_type": "stream",
     "text": [
      "Label: Life/Art/Culture\n"
     ]
    },
    {
     "data": {
      "text/markdown": [
       "A huge, internally flawless, 59.  diamond called the ”Pink Star” went for a whopping $71. 2 million at auction in Hong Kong  —   the highest price ever for a jewel. The oval gem was purchased at Sotheby’s by Hong   jewelry company Chow Tai Fook in a bid placed over the phone by the chairman, who renamed the jewel ”CTF PINK STAR” in honor of his late father. ”Not only was the price more than double the previous record for a fancy vivid..."
      ],
      "text/plain": [
       "<IPython.core.display.Markdown object>"
      ]
     },
     "metadata": {},
     "output_type": "display_data"
    },
    {
     "name": "stdout",
     "output_type": "stream",
     "text": [
      "\n",
      "****************************************************************************************************\n",
      "****************************************************************************************************\n",
      "\n",
      "Label: International\n"
     ]
    },
    {
     "data": {
      "text/markdown": [
       "President Trump signed a new executive order on Monday, after his first action temporarily barring refugees and travel from specific   countries faced a slew of criticism and lawsuits. The revised order has a number of changes, including dropping Iraq from the list of countries with restrictions. It also explicitly does not apply to lawful permanent residents (green card holders) or existing visa holders. The order goes into effect on March 16. Journalists across NPR will be annotating the full text of the order...."
      ],
      "text/plain": [
       "<IPython.core.display.Markdown object>"
      ]
     },
     "metadata": {},
     "output_type": "display_data"
    },
    {
     "name": "stdout",
     "output_type": "stream",
     "text": [
      "\n",
      "****************************************************************************************************\n",
      "****************************************************************************************************\n",
      "\n",
      "Label: Politics/Economics\n"
     ]
    },
    {
     "data": {
      "text/markdown": [
       "When the Labor Department announces the September   numbers on Friday, presidential candidates will pounce, hoping to find data to support their talking points on the economy. For the past three months, the numbers have been favoring the incumbent Democratic Party. Candidate Hillary Clinton could point to a steady, low unemployment rate of 4. 9 percent and average growth of 232, 000 jobs per month, a robust pace. But the September numbers might show the economy is slowing  —   giving Republican Donald Trump an opportunity to strengthen his..."
      ],
      "text/plain": [
       "<IPython.core.display.Markdown object>"
      ]
     },
     "metadata": {},
     "output_type": "display_data"
    },
    {
     "name": "stdout",
     "output_type": "stream",
     "text": [
      "\n",
      "****************************************************************************************************\n",
      "****************************************************************************************************\n",
      "\n",
      "Label: International\n"
     ]
    },
    {
     "data": {
      "text/markdown": [
       "When faced with allegations of sex abuse against one of its bishops, the Church of England ”colluded and concealed rather than seeking to help those who were brave enough to come forward,” the church’s leader acknowledged Thursday. ”For the survivors who were brave enough to share their story and bring Peter Ball to justice, I once again offer an unreserved apology,” Justin Welby, archbishop of Canterbury, said in a statement. ”There are no excuses whatsoever for what took place and the systemic abuse of trust perpetrated..."
      ],
      "text/plain": [
       "<IPython.core.display.Markdown object>"
      ]
     },
     "metadata": {},
     "output_type": "display_data"
    },
    {
     "name": "stdout",
     "output_type": "stream",
     "text": [
      "\n",
      "****************************************************************************************************\n",
      "****************************************************************************************************\n",
      "\n",
      "Label: Life/Art/Culture\n"
     ]
    },
    {
     "data": {
      "text/markdown": [
       "Seven teenagers stand in the courtyard of the Smithsonian National Portrait Gallery, dressed in costumes and surrounded by onlookers. Some of the characters they play are immediately recognizable  —   Malcolm X, Albert Einstein  —   and others don’t register until they announce their names. ”We stand before you as a reflection of community,” the group announces in unison. One after another, they speak up: ”As reminders of social activists.” ”Some of us are leaders.” ”Or presidents.” Then..."
      ],
      "text/plain": [
       "<IPython.core.display.Markdown object>"
      ]
     },
     "metadata": {},
     "output_type": "display_data"
    },
    {
     "name": "stdout",
     "output_type": "stream",
     "text": [
      "\n",
      "****************************************************************************************************\n",
      "****************************************************************************************************\n",
      "\n",
      "Label: International\n"
     ]
    },
    {
     "data": {
      "text/markdown": [
       "Among the queries included in a questionnaire sent by   Donald Trump’s transition team to workers at the Department of Energy is a request for an inventory of all agency employees or contractors who attended meetings or conferences on climate change. Another question asks for a current list of professional society memberships of any lab staff. The   questionnaire has raised fears among civil rights lawyers specializing in federal worker whistleblower protections, who say the incoming administration is at a minimum trying to influence or limit the research at the Department of Energy. And at..."
      ],
      "text/plain": [
       "<IPython.core.display.Markdown object>"
      ]
     },
     "metadata": {},
     "output_type": "display_data"
    },
    {
     "name": "stdout",
     "output_type": "stream",
     "text": [
      "\n",
      "****************************************************************************************************\n",
      "****************************************************************************************************\n",
      "\n",
      "Label: Election\n"
     ]
    },
    {
     "data": {
      "text/markdown": [
       "More than 100 million people are expected to watch the first debate between Hillary Clinton and Donald Trump on Monday night, potentially the largest audience for a campaign event in American history. Why? What do we expect from this   faceoff? A watershed moment in our history? A basis on which to choose between the candidates? Or just a ripping good show? Obviously, many of us hope to get all three. [The debate from Hofstra University in Hempstead N. Y. will be broadcast live on NPR beginning at 9 p...."
      ],
      "text/plain": [
       "<IPython.core.display.Markdown object>"
      ]
     },
     "metadata": {},
     "output_type": "display_data"
    },
    {
     "name": "stdout",
     "output_type": "stream",
     "text": [
      "\n",
      "****************************************************************************************************\n",
      "****************************************************************************************************\n",
      "\n",
      "Label: Life/Art/Culture\n"
     ]
    },
    {
     "data": {
      "text/markdown": [
       "Sinkane opened its Tiny Desk Concert with a song that has been a bit of an anthem for me lately. ”U’Huh” contains the Arabic phrase ”kulu shi tamaam,” which translates to ”everything’s great  —   it’s all going to be all right.” Sinkane is the music of Ahmed Gallab  —   and such hopeful music it is. He grew up in London and has lived in Sudan and in Ohio and, these days, New York City. His band reflects his own love for..."
      ],
      "text/plain": [
       "<IPython.core.display.Markdown object>"
      ]
     },
     "metadata": {},
     "output_type": "display_data"
    },
    {
     "name": "stdout",
     "output_type": "stream",
     "text": [
      "\n",
      "****************************************************************************************************\n",
      "****************************************************************************************************\n",
      "\n",
      "Label: Life/Art/Culture\n"
     ]
    },
    {
     "data": {
      "text/markdown": [
       "Here’s what we know: Coldplay and Beyoncé will perform at Sunday’s Super Bowl halftime. The duo just released a song called ”Hymn for the Weekend.” But they won’t be performing it  —   because it’s too new, according to the band. ”I don’t think it would be quite right,” said frontman Chris Martin, according to The Associated Press. The decision comes as the song’s music video has ignited a heated debate about cultural appropriation. The video, which uses India..."
      ],
      "text/plain": [
       "<IPython.core.display.Markdown object>"
      ]
     },
     "metadata": {},
     "output_type": "display_data"
    },
    {
     "name": "stdout",
     "output_type": "stream",
     "text": [
      "\n",
      "****************************************************************************************************\n",
      "****************************************************************************************************\n",
      "\n",
      "Label: International\n"
     ]
    },
    {
     "data": {
      "text/markdown": [
       "Gunmen dressed as medical staff stormed a military hospital in Kabul on Wednesday morning, killing at least 30 people and injuring dozens more in a raid that lasted hours. In a statement published on the Islamic   Aamaq news agency, the militant group claimed responsibility for the assault in the Afghan capital. The attack on Sardar Mohammad Daud Khan hospital ended midafternoon local time, after several hours of    clashes with Afghan security forces left all four attackers dead, according to Gen. Dawlat Waziri, an Afghan defense ministry spokesman. ”While we..."
      ],
      "text/plain": [
       "<IPython.core.display.Markdown object>"
      ]
     },
     "metadata": {},
     "output_type": "display_data"
    },
    {
     "name": "stdout",
     "output_type": "stream",
     "text": [
      "\n",
      "****************************************************************************************************\n",
      "****************************************************************************************************\n",
      "\n"
     ]
    }
   ],
   "source": [
    "# Selecting a few random articles to examine how reasonable the article segmentation looks\n",
    "for i in range(10):\n",
    "    index = randint(0, df.shape[0])\n",
    "    article = nlp(df.loc[index, 'Article'])\n",
    "    print('Label:', df.loc[index, 'LDA_Label'])\n",
    "    display(Markdown(str(article[:100]) + '...'))\n",
    "    print('\\n'+ ('*'*100 + '\\n')*2)"
   ]
  },
  {
   "cell_type": "markdown",
   "metadata": {
    "id": "9dm7lK1XHihU"
   },
   "source": [
    "#### Observations:\n",
    "\n",
    "The labels mostly agree with the content of the articles."
   ]
  },
  {
   "cell_type": "code",
   "execution_count": 19,
   "metadata": {
    "colab": {
     "base_uri": "https://localhost:8080/"
    },
    "executionInfo": {
     "elapsed": 14,
     "status": "ok",
     "timestamp": 1686343025190,
     "user": {
      "displayName": "Amin Khodkar",
      "userId": "09708206172731177785"
     },
     "user_tz": 300
    },
    "id": "h1MjBrJL3gzW",
    "outputId": "ecfa94e9-8e14-493a-ff11-c1cf2f983ba9"
   },
   "outputs": [
    {
     "name": "stdout",
     "output_type": "stream",
     "text": [
      "Share of Each Subject Among All Articles:\n"
     ]
    },
    {
     "data": {
      "text/plain": [
       "Life/Art/Culture     0.277\n",
       "International        0.193\n",
       "Politics/Economics   0.162\n",
       "Election             0.158\n",
       "Education            0.122\n",
       "Health/Science       0.088\n",
       "Name: LDA_Label, dtype: float64"
      ]
     },
     "execution_count": 19,
     "metadata": {},
     "output_type": "execute_result"
    }
   ],
   "source": [
    "# Share of each topic in the whole corpus\n",
    "print('Share of Each Subject Among All Articles:')\n",
    "df.LDA_Label.value_counts(1)"
   ]
  },
  {
   "cell_type": "markdown",
   "metadata": {
    "id": "2AmtTc5r6rQc"
   },
   "source": [
    "## Summary:\n",
    "\n",
    "*   Both models, more or less, identify similar topics for the articles, while NMF does it in a much more efficient and less time-consuming fashion.\n",
    "\n",
    "*   The NMF-based model detects an extra specific cluster called Trump/White House for the news for which Trump (or his WH) is the centerpiece. Note that these articles go back to 2016 and 2017, when he was an inevitable part of American politics. The LDA-based model, however, doesn't get that detailed and particular, and lump all Trump news into Politics/Economics or Election clusters. This is why NMF ends up with one more segment, compared to LDA.\n",
    "\n",
    "*   Note that NMF's Domestic/Legislative cluster is analogous to LDA's Politics/Economics cluster, except the former doesn't contain the White-House-centric news.\n",
    "\n",
    "*   Interestingly, cultural and international news are identified the first and second most frequent topic, respectively, by both methods, with similar percentages.\n",
    "\n",
    "*   The share of Health/Science news is erroneously low in the LDA results. This method categorizes many of the health- or science/research-related news as political, since the government may also be involved in the decisions, and, as a result, some political terms would emerge in the article as well.  "
   ]
  }
 ],
 "metadata": {
  "colab": {
   "provenance": []
  },
  "kernelspec": {
   "display_name": "Python 3 (ipykernel)",
   "language": "python",
   "name": "python3"
  },
  "language_info": {
   "codemirror_mode": {
    "name": "ipython",
    "version": 3
   },
   "file_extension": ".py",
   "mimetype": "text/x-python",
   "name": "python",
   "nbconvert_exporter": "python",
   "pygments_lexer": "ipython3",
   "version": "3.9.7"
  }
 },
 "nbformat": 4,
 "nbformat_minor": 1
}
